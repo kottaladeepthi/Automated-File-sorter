{
 "cells": [
  {
   "cell_type": "code",
   "execution_count": 141,
   "id": "01019919-a6d9-45c2-9e6b-f8bad7132e23",
   "metadata": {},
   "outputs": [],
   "source": [
    "import os,shutil "
   ]
  },
  {
   "cell_type": "code",
   "execution_count": 143,
   "id": "2d4b0bf3-213a-4a31-a6ab-49291e67701d",
   "metadata": {},
   "outputs": [],
   "source": [
    "#path = r\"/Users/deepthi/Documents/filesorter\"\n",
    "path = \"/Users/deepthi/Documents/filesorter/\" #path of the file to be sorted here you can keep r before \" to make it a raw text"
   ]
  },
  {
   "cell_type": "code",
   "execution_count": 145,
   "id": "f9a2d6e6-442c-44c1-b623-d2b3f48ba93c",
   "metadata": {},
   "outputs": [
    {
     "data": {
      "text/plain": [
       "['comprehensive papers', 'text files', '.DS_Store', 'image files', 'csv files']"
      ]
     },
     "execution_count": 145,
     "metadata": {},
     "output_type": "execute_result"
    }
   ],
   "source": [
    "filename = os.listdir(path)\n",
    "filename#list all the files in the directory or show us all the dir in path"
   ]
  },
  {
   "cell_type": "code",
   "execution_count": 147,
   "id": "502bb1c7-66d7-467c-a68b-95c2500e6095",
   "metadata": {},
   "outputs": [],
   "source": [
    "folder_names = ['csv files', 'image files' , 'text files']\n",
    "for loop in range(0,3):\n",
    "    if not os.path.exists(path + folder_names[loop]):\n",
    "        #print(path + folder_names[loop])\n",
    "        os.makedirs(path + folder_names[loop])\n",
    "#os.path.exists(path) to check if the folder or path already exists\n"
   ]
  },
  {
   "cell_type": "code",
   "execution_count": 139,
   "id": "776d816b-b390-419b-830e-403e0ac85923",
   "metadata": {},
   "outputs": [],
   "source": [
    "for file in filename:\n",
    "    if \".csv\" in file and not os.path.exists(path + \"csv files/\" + file):\n",
    "        shutil.move(path + file, path + \"csv files/\" + file)\n",
    "    elif \".jpg\" in file and not os.path.exists(path + \"image files/\" + file):\n",
    "        shutil.move(path + file, path + \"image files/\" + file)\n",
    "    elif \".pdf\" in file and not os.path.exists(path + \"text files/\" + file):\n",
    "        shutil.move(path + file, path + \"text files/\" + file)\n",
    "    "
   ]
  },
  {
   "cell_type": "code",
   "execution_count": null,
   "id": "db5feedc-4c22-41fc-b576-5aa5ede48c21",
   "metadata": {},
   "outputs": [],
   "source": []
  }
 ],
 "metadata": {
  "kernelspec": {
   "display_name": "Python 3 (ipykernel)",
   "language": "python",
   "name": "python3"
  },
  "language_info": {
   "codemirror_mode": {
    "name": "ipython",
    "version": 3
   },
   "file_extension": ".py",
   "mimetype": "text/x-python",
   "name": "python",
   "nbconvert_exporter": "python",
   "pygments_lexer": "ipython3",
   "version": "3.12.4"
  }
 },
 "nbformat": 4,
 "nbformat_minor": 5
}
